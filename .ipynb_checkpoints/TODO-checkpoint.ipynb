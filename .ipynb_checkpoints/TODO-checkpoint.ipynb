{
 "cells": [
  {
   "cell_type": "markdown",
   "metadata": {},
   "source": [
    "# Ideas a desarrollar para Machine Learning con Wasserstein\n",
    "1. [OK] Algoritmo numerico 'estable' para aproximar la distancia W2 entre distribuciones (test con Gaussianas, misma copula)\n",
    "2. [KO] Wasserstein distance entre Mixtures of Gaussian (Discreto+Continuo vs Numérico)\n",
    "3. [OK] Simulador de copulas + marginales Gaussianas\n",
    "4. Costo gaussianas (copulas+marginales)\n",
    "5. Simulador de copulas + marginales Ellipticas y Archimedean\n",
    "6. Calcular costos/transportes/baricentros de distribuciones ellipiticas (Student-t) y Archimedean\n",
    "7. Wasserstein distancia/transporte/baricentro para Warped Gaussian Distributions\n",
    "8. Algoritmos MCMC (Metropolis, Hamiltonean, Ensemble) en Wasserstein Space\n",
    "9. Algoritmos de gradiente (momentum, nesterov, estocástico) en Wasserstein Space\n",
    "10. Algoritmos de Importance Sampling para el baricentro\n",
    "11. Algoritmos online (streaming de datos) para calcular baricentro\n",
    "12. Definir WGP como transport process y entrenar con algoritmos desarrollados\n",
    "13. Extenderlo a Warped Elliptical/Archimedean Process"
   ]
  },
  {
   "cell_type": "markdown",
   "metadata": {},
   "source": [
    "# Ejemplos a Generar\n",
    "1. logp con flat/sharp minima\n",
    "2. algoritmo de Cuesta-Albertos falla con gaussianas\n",
    "3. logp con infinitos minimos (GP kernel Laplace)\n",
    "4. ejemplos no-Gaussianos para calcular baricentros"
   ]
  },
  {
   "cell_type": "code",
   "execution_count": null,
   "metadata": {},
   "outputs": [],
   "source": []
  }
 ],
 "metadata": {
  "kernelspec": {
   "display_name": "Python [default]",
   "language": "python",
   "name": "python3"
  },
  "language_info": {
   "codemirror_mode": {
    "name": "ipython",
    "version": 3
   },
   "file_extension": ".py",
   "mimetype": "text/x-python",
   "name": "python",
   "nbconvert_exporter": "python",
   "pygments_lexer": "ipython3",
   "version": "3.6.5"
  },
  "toc": {
   "base_numbering": 1,
   "nav_menu": {},
   "number_sections": true,
   "sideBar": true,
   "skip_h1_title": false,
   "title_cell": "Table of Contents",
   "title_sidebar": "Contents",
   "toc_cell": false,
   "toc_position": {},
   "toc_section_display": "block",
   "toc_window_display": false
  }
 },
 "nbformat": 4,
 "nbformat_minor": 2
}
