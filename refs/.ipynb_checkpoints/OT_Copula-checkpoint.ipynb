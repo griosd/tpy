{
 "cells": [
  {
   "cell_type": "markdown",
   "metadata": {},
   "source": [
    "$X,Y$ random variables in $\\mathbb{R}^n$ with marginals $F,G$ and copulas $U,V$ respectively. The optimal map between $X$ and $U$ is $F$, and the optimal map between $Y$ and $V$ is $G$. We will denote $\\phi^*$ as the optimal map between $X$ and $Y$, and as $\\tilde{\\phi}^*$ as the optimal map between $U$ and $V$. \n",
    "\n",
    "![](ot_copulas1.jpeg)\n",
    "We can assume that $Y$ is a copula, so $Y=V$ and $G$ it is the identity. \n",
    "![](ot_copulas2.jpeg)\n",
    "\n",
    "So all the coordinates of $F$ must be equals, so all the coordinates of $X$ follow the same marginal. "
   ]
  }
 ],
 "metadata": {
  "kernelspec": {
   "display_name": "Python [default]",
   "language": "python",
   "name": "python3"
  },
  "language_info": {
   "codemirror_mode": {
    "name": "ipython",
    "version": 3
   },
   "file_extension": ".py",
   "mimetype": "text/x-python",
   "name": "python",
   "nbconvert_exporter": "python",
   "pygments_lexer": "ipython3",
   "version": "3.6.5"
  },
  "toc": {
   "nav_menu": {},
   "number_sections": true,
   "sideBar": true,
   "skip_h1_title": false,
   "toc_cell": false,
   "toc_position": {},
   "toc_section_display": "block",
   "toc_window_display": false
  }
 },
 "nbformat": 4,
 "nbformat_minor": 2
}
